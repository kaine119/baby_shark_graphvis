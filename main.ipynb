{
 "cells": [
  {
   "cell_type": "code",
   "execution_count": 55,
   "metadata": {},
   "outputs": [
    {
     "data": {
      "image/png": "[encoded data removed]",
      "text/plain": [
       "<Figure size 432x288 with 1 Axes>"
      ]
     },
     "metadata": {
      "needs_background": "light"
     },
     "output_type": "display_data"
    }
   ],
   "source": [
    "%matplotlib inline\n",
    "import matplotlib.pyplot as plt\n",
    "plt.bar(['a', 'b', 'c'], [1, 2, 3])\n",
    "plt.yticks(range(4))\n",
    "plt.show()"
   ]
  },
  {
   "cell_type": "markdown",
   "metadata": {},
   "source": [
    "# Grab the lyrics"
   ]
  },
  {
   "cell_type": "code",
   "execution_count": 27,
   "metadata": {},
   "outputs": [
    {
     "name": "stdout",
     "output_type": "stream",
     "text": [
      "['Baby', 'shark', 'doo', 'doo', 'doo', 'doo', 'doo', 'doo', 'Baby', 'shark', 'doo', 'doo', 'doo', 'doo', 'doo', 'doo', 'Baby', 'shark', 'doo', 'doo', 'doo', 'doo', 'doo', 'doo', 'Baby', 'shark', 'Mommy', 'shark', 'doo', 'doo', 'doo', 'doo', 'doo', 'doo', 'Mommy', 'shark', 'doo', 'doo', 'doo', 'doo', 'doo', 'doo', 'Mommy', 'shark', 'doo', 'doo', 'doo', 'doo', 'doo', 'doo', 'Mommy', 'shark', 'Daddy', 'shark', 'doo', 'doo', 'doo', 'doo', 'doo', 'doo', 'Daddy', 'shark', 'doo', 'doo', 'doo', 'doo', 'doo', 'doo', 'Daddy', 'shark', 'doo', 'doo', 'doo', 'doo', 'doo', 'doo', 'Daddy', 'shark', 'Grandma', 'shark', 'doo', 'doo', 'doo', 'doo', 'doo', 'doo', 'Grandma', 'shark', 'doo', 'doo', 'doo', 'doo', 'doo', 'doo', 'Grandma', 'shark', 'doo', 'doo', 'doo', 'doo', 'doo', 'doo', 'Grandma', 'shark', 'Grandpa', 'shark', 'doo', 'doo', 'doo', 'doo', 'doo', 'doo', 'Grandpa', 'shark', 'doo', 'doo', 'doo', 'doo', 'doo', 'doo', 'Grandpa', 'shark', 'doo', 'doo', 'doo', 'doo', 'doo', 'doo', 'Grandpa', 'shark', \"Let's\", 'go', 'hunt', 'doo', 'doo', 'doo', 'doo', 'doo', 'doo', \"Let's\", 'go', 'hunt', 'doo', 'doo', 'doo', 'doo', 'doo', 'doo', \"Let's\", 'go', 'hunt', 'doo', 'doo', 'doo', 'doo', 'doo', 'doo', \"Let's\", 'go', 'hunt', 'Run', 'away', 'doo', 'doo', 'doo', 'doo', 'doo', 'doo', 'Run', 'away', 'doo', 'doo', 'doo', 'doo', 'doo', 'doo', 'Run', 'away', 'doo', 'doo', 'doo', 'doo', 'doo', 'doo', 'Run', 'away', 'Safe', 'at', 'last', 'doo', 'doo', 'doo', 'doo', 'doo', 'doo', 'Safe', 'at', 'last', 'doo', 'doo', 'doo', 'doo', 'doo', 'doo', 'Safe', 'at', 'last', 'doo', 'doo', 'doo', 'doo', 'doo', 'doo', 'Safe', 'at', 'last', \"It's\", 'the', 'end', 'doo', 'doo', 'doo', 'doo', 'doo', 'doo', \"It's\", 'the', 'end', 'doo', 'doo', 'doo', 'doo', 'doo', 'doo', \"It's\", 'the', 'end', 'doo', 'doo', 'doo', 'doo', 'doo', 'doo', \"It's\", 'the', 'end']\n"
     ]
    }
   ],
   "source": [
    "import string\n",
    "with open('lyrics.txt') as f:\n",
    "    # remove newlines and extraneous punctuation before splitting\n",
    "    table = str.maketrans('\\n', ' ', ',!')\n",
    "    lyrics = f.read().translate(table).strip().split(\" \")\n",
    "    \n",
    "print(lyrics)"
   ]
  },
  {
   "cell_type": "code",
   "execution_count": 47,
   "metadata": {},
   "outputs": [
    {
     "data": {
      "image/png": "[encoded data removed]",
      "text/plain": [
       "<Figure size 1800x360 with 1 Axes>"
      ]
     },
     "metadata": {
      "needs_background": "light"
     },
     "output_type": "display_data"
    }
   ],
   "source": [
    "plt.rcParams[\"figure.figsize\"] = (25, 5)\n",
    "unique_words = list(set(lyrics))\n",
    "counts = [lyrics.count(word) for word in unique_words]\n",
    "plt.bar(unique_words, counts)\n",
    "plt.show()"
   ]
  },
  {
   "cell_type": "code",
   "execution_count": 89,
   "metadata": {},
   "outputs": [],
   "source": [
    "from collections import OrderedDict\n",
    "word_counts = OrderedDict()\n",
    "\n",
    "# make it *exactly* 16:9 (inches)\n",
    "plt.rcParams[\"figure.figsize\"] = [16, 9]\n",
    "plt.rcParams[\"xtick.labelsize\"] = 10\n",
    "\n",
    "for i, word in enumerate(lyrics):\n",
    "    # aggregate word counts in order\n",
    "    if word in word_counts:\n",
    "        word_counts[word] += 1\n",
    "    else:\n",
    "        word_counts[word] = 1\n",
    "    \n",
    "    # get handles for figure and axes\n",
    "    fig = plt.figure()\n",
    "        \n",
    "    # plot current word counts\n",
    "    bars = plt.bar(word_counts.keys(), word_counts.values())\n",
    "    \n",
    "    # hide axes\n",
    "    axes = fig.get_axes()\n",
    "    axes[0].spines['top'].set_visible(False)\n",
    "    axes[0].spines['right'].set_visible(False)\n",
    "    \n",
    "    # draw the count on top of each bar\n",
    "    for bar in bars:\n",
    "        height = bar.get_height()\n",
    "        plt.text(bar.get_x() + bar.get_width() / 2, height, height, ha='center', va='bottom', fontsize=18)\n",
    "\n",
    "    plt.savefig(f\"out/{i}.png\")\n",
    "\n",
    "    # close the figure to save memory\n",
    "    plt.close(fig)"
   ]
  },
  {
   "cell_type": "code",
   "execution_count": null,
   "metadata": {},
   "outputs": [],
   "source": []
  }
 ],
 "metadata": {
  "kernelspec": {
   "display_name": "Python 3",
   "language": "python",
   "name": "python3"
  },
  "language_info": {
   "codemirror_mode": {
    "name": "ipython",
    "version": 3
   },
   "file_extension": ".py",
   "mimetype": "text/x-python",
   "name": "python",
   "nbconvert_exporter": "python",
   "pygments_lexer": "ipython3",
   "version": "3.8.6"
  }
 },
 "nbformat": 4,
 "nbformat_minor": 2
}
